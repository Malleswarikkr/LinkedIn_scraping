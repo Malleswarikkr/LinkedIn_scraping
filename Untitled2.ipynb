{
 "cells": [
  {
   "cell_type": "code",
   "execution_count": 1,
   "id": "8873ce2e",
   "metadata": {},
   "outputs": [],
   "source": [
    "from selenium import webdriver\n",
    "import time\n",
    "import pandas as pd\n",
    "import os"
   ]
  },
  {
   "cell_type": "code",
   "execution_count": 2,
   "id": "7f3ccfe3",
   "metadata": {},
   "outputs": [],
   "source": [
    "from selenium.webdriver.support.select import Select\n",
    "from selenium.webdriver.support.ui import WebDriverWait\n",
    "from selenium.webdriver.common.by import By\n",
    "from selenium.webdriver.support import expected_conditions as EC"
   ]
  },
  {
   "cell_type": "code",
   "execution_count": 3,
   "id": "54909018",
   "metadata": {},
   "outputs": [],
   "source": [
    "url1=\"https://www.linkedin.com/jobs/search/?currentJobId=3591265081&f_E=2&f_PP=105214831%2C105556991%2C106888327&f_WT=2&geoId=102713980&keywords=Data%20Analyst&location=India&sortBy=R\""
   ]
  },
  {
   "cell_type": "code",
   "execution_count": 4,
   "id": "c76fefee",
   "metadata": {},
   "outputs": [
    {
     "name": "stderr",
     "output_type": "stream",
     "text": [
      "C:\\Users\\Malleswari\\AppData\\Local\\Temp\\ipykernel_4776\\3563204038.py:1: DeprecationWarning: executable_path has been deprecated, please pass in a Service object\n",
      "  driver = webdriver.Chrome(executable_path=r'D:\\cromeDriver\\\\chromedriver.exe')\n"
     ]
    }
   ],
   "source": [
    "driver = webdriver.Chrome(executable_path=r'D:\\cromeDriver\\\\chromedriver.exe')\n",
    "driver.implicitly_wait(10)\n",
    "driver.get(url1)\n"
   ]
  },
  {
   "cell_type": "code",
   "execution_count": 5,
   "id": "6a7f50bb",
   "metadata": {},
   "outputs": [],
   "source": [
    "from selenium.webdriver.common.by import By\n",
    "\n",
    "n=driver.find_element(By.CLASS_NAME, \"results-context-header__job-count\").text"
   ]
  },
  {
   "cell_type": "code",
   "execution_count": 7,
   "id": "1ad47d7a",
   "metadata": {},
   "outputs": [
    {
     "data": {
      "text/plain": [
       "'259'"
      ]
     },
     "execution_count": 7,
     "metadata": {},
     "output_type": "execute_result"
    }
   ],
   "source": [
    "n"
   ]
  },
  {
   "cell_type": "code",
   "execution_count": 8,
   "id": "07ed2d7d",
   "metadata": {},
   "outputs": [
    {
     "data": {
      "text/plain": [
       "259"
      ]
     },
     "execution_count": 8,
     "metadata": {},
     "output_type": "execute_result"
    }
   ],
   "source": [
    "t=pd.to_numeric(n)\n",
    "t"
   ]
  },
  {
   "cell_type": "code",
   "execution_count": 9,
   "id": "c963f5a5",
   "metadata": {},
   "outputs": [],
   "source": [
    "i = 2\n",
    "while i <=int((t+200)/25)+1: \n",
    "    driver.execute_script(\"window.scrollTo(0, document.body.scrollHeight);\")\n",
    "    i+=1\n",
    "    \n",
    "    try:\n",
    "        send=driver.find_element_by_xpath(\"//button[@aria-label='See more jobs']\")\n",
    "        driver.execute_script(\"arguments[0].click();\", send)   \n",
    "        time.sleep(3)\n",
    "        buu=driver.find_elements_by_tag_name(\"button\")\n",
    "        x=[btn for btn in buu if btn.text==\"See more jobs\"]\n",
    "        for btn in x:\n",
    "            driver.execute_script(\"arguments[0].click();\", btn)\n",
    "            time.sleep(3)\n",
    "        \n",
    "        \n",
    "    except:\n",
    "        \n",
    "        pass\n",
    "        time.sleep(3)"
   ]
  },
  {
   "cell_type": "code",
   "execution_count": 10,
   "id": "0835fac6",
   "metadata": {},
   "outputs": [],
   "source": [
    "companyname= []\n",
    "titlename= []"
   ]
  },
  {
   "cell_type": "code",
   "execution_count": 11,
   "id": "f462385f",
   "metadata": {},
   "outputs": [],
   "source": [
    "try:\n",
    "    for i in range(t):\n",
    "        company=driver.find_element(By.CLASS_NAME, 'hidden-nested-link').text\n",
    "        companyname.append(company)\n",
    "        \n",
    "            \n",
    "    \n",
    "\n",
    "        \n",
    "    \n",
    "\n",
    "    \n",
    "    \n",
    "except IndexError:\n",
    "    print(\"no\")"
   ]
  },
  {
   "cell_type": "code",
   "execution_count": 12,
   "id": "292b0867",
   "metadata": {},
   "outputs": [
    {
     "data": {
      "text/plain": [
       "259"
      ]
     },
     "execution_count": 12,
     "metadata": {},
     "output_type": "execute_result"
    }
   ],
   "source": [
    "len(companyname)"
   ]
  },
  {
   "cell_type": "code",
   "execution_count": 13,
   "id": "c7fca900",
   "metadata": {},
   "outputs": [],
   "source": [
    "try:\n",
    "    for i in range(t):\n",
    "        \n",
    "        \n",
    "        title=driver.find_element(By.CLASS_NAME,'base-search-card__title').text\n",
    "    \n",
    "\n",
    "        titlename.append(title)\n",
    "        \n",
    "            \n",
    "\n",
    "\n",
    "    \n",
    "    \n",
    "except IndexError:\n",
    "    print(\"no\")"
   ]
  },
  {
   "cell_type": "code",
   "execution_count": 14,
   "id": "3dfa29c4",
   "metadata": {},
   "outputs": [
    {
     "data": {
      "text/plain": [
       "259"
      ]
     },
     "execution_count": 14,
     "metadata": {},
     "output_type": "execute_result"
    }
   ],
   "source": [
    "len(titlename)"
   ]
  },
  {
   "cell_type": "code",
   "execution_count": 15,
   "id": "fbd652f5",
   "metadata": {},
   "outputs": [],
   "source": [
    "companyfinal=pd.DataFrame(companyname,columns=[\"company\"])\n",
    "titlefinal=pd.DataFrame(titlename,columns=[\"title\"])"
   ]
  },
  {
   "cell_type": "code",
   "execution_count": 16,
   "id": "a37a4bf2",
   "metadata": {},
   "outputs": [],
   "source": [
    "x=companyfinal.join(titlefinal)"
   ]
  },
  {
   "cell_type": "code",
   "execution_count": 17,
   "id": "a5cbd947",
   "metadata": {},
   "outputs": [
    {
     "data": {
      "text/html": [
       "<div>\n",
       "<style scoped>\n",
       "    .dataframe tbody tr th:only-of-type {\n",
       "        vertical-align: middle;\n",
       "    }\n",
       "\n",
       "    .dataframe tbody tr th {\n",
       "        vertical-align: top;\n",
       "    }\n",
       "\n",
       "    .dataframe thead th {\n",
       "        text-align: right;\n",
       "    }\n",
       "</style>\n",
       "<table border=\"1\" class=\"dataframe\">\n",
       "  <thead>\n",
       "    <tr style=\"text-align: right;\">\n",
       "      <th></th>\n",
       "      <th>company</th>\n",
       "      <th>title</th>\n",
       "    </tr>\n",
       "  </thead>\n",
       "  <tbody>\n",
       "    <tr>\n",
       "      <th>0</th>\n",
       "      <td>Innometrics Solutions</td>\n",
       "      <td>Fresh Data Analyst Or Business Analyst (0-1 ye...</td>\n",
       "    </tr>\n",
       "    <tr>\n",
       "      <th>1</th>\n",
       "      <td>Innometrics Solutions</td>\n",
       "      <td>Fresh Data Analyst Or Business Analyst (0-1 ye...</td>\n",
       "    </tr>\n",
       "    <tr>\n",
       "      <th>2</th>\n",
       "      <td>Innometrics Solutions</td>\n",
       "      <td>Fresh Data Analyst Or Business Analyst (0-1 ye...</td>\n",
       "    </tr>\n",
       "    <tr>\n",
       "      <th>3</th>\n",
       "      <td>Innometrics Solutions</td>\n",
       "      <td>Fresh Data Analyst Or Business Analyst (0-1 ye...</td>\n",
       "    </tr>\n",
       "    <tr>\n",
       "      <th>4</th>\n",
       "      <td>Innometrics Solutions</td>\n",
       "      <td>Fresh Data Analyst Or Business Analyst (0-1 ye...</td>\n",
       "    </tr>\n",
       "    <tr>\n",
       "      <th>...</th>\n",
       "      <td>...</td>\n",
       "      <td>...</td>\n",
       "    </tr>\n",
       "    <tr>\n",
       "      <th>254</th>\n",
       "      <td>Innometrics Solutions</td>\n",
       "      <td>Fresh Data Analyst Or Business Analyst (0-1 ye...</td>\n",
       "    </tr>\n",
       "    <tr>\n",
       "      <th>255</th>\n",
       "      <td>Innometrics Solutions</td>\n",
       "      <td>Fresh Data Analyst Or Business Analyst (0-1 ye...</td>\n",
       "    </tr>\n",
       "    <tr>\n",
       "      <th>256</th>\n",
       "      <td>Innometrics Solutions</td>\n",
       "      <td>Fresh Data Analyst Or Business Analyst (0-1 ye...</td>\n",
       "    </tr>\n",
       "    <tr>\n",
       "      <th>257</th>\n",
       "      <td>Innometrics Solutions</td>\n",
       "      <td>Fresh Data Analyst Or Business Analyst (0-1 ye...</td>\n",
       "    </tr>\n",
       "    <tr>\n",
       "      <th>258</th>\n",
       "      <td>Innometrics Solutions</td>\n",
       "      <td>Fresh Data Analyst Or Business Analyst (0-1 ye...</td>\n",
       "    </tr>\n",
       "  </tbody>\n",
       "</table>\n",
       "<p>259 rows × 2 columns</p>\n",
       "</div>"
      ],
      "text/plain": [
       "                   company                                              title\n",
       "0    Innometrics Solutions  Fresh Data Analyst Or Business Analyst (0-1 ye...\n",
       "1    Innometrics Solutions  Fresh Data Analyst Or Business Analyst (0-1 ye...\n",
       "2    Innometrics Solutions  Fresh Data Analyst Or Business Analyst (0-1 ye...\n",
       "3    Innometrics Solutions  Fresh Data Analyst Or Business Analyst (0-1 ye...\n",
       "4    Innometrics Solutions  Fresh Data Analyst Or Business Analyst (0-1 ye...\n",
       "..                     ...                                                ...\n",
       "254  Innometrics Solutions  Fresh Data Analyst Or Business Analyst (0-1 ye...\n",
       "255  Innometrics Solutions  Fresh Data Analyst Or Business Analyst (0-1 ye...\n",
       "256  Innometrics Solutions  Fresh Data Analyst Or Business Analyst (0-1 ye...\n",
       "257  Innometrics Solutions  Fresh Data Analyst Or Business Analyst (0-1 ye...\n",
       "258  Innometrics Solutions  Fresh Data Analyst Or Business Analyst (0-1 ye...\n",
       "\n",
       "[259 rows x 2 columns]"
      ]
     },
     "execution_count": 17,
     "metadata": {},
     "output_type": "execute_result"
    }
   ],
   "source": [
    "x"
   ]
  }
 ],
 "metadata": {
  "kernelspec": {
   "display_name": "Python 3 (ipykernel)",
   "language": "python",
   "name": "python3"
  },
  "language_info": {
   "codemirror_mode": {
    "name": "ipython",
    "version": 3
   },
   "file_extension": ".py",
   "mimetype": "text/x-python",
   "name": "python",
   "nbconvert_exporter": "python",
   "pygments_lexer": "ipython3",
   "version": "3.10.9"
  }
 },
 "nbformat": 4,
 "nbformat_minor": 5
}
